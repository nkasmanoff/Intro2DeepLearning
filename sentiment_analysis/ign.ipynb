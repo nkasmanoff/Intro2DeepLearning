{
 "cells": [
  {
   "cell_type": "markdown",
   "metadata": {},
   "source": [
    "\"\"\"This is a challenge, using all the ~knowledge~ I gained learning more about word embeddings and tflearn in \n",
    "the imdb review video, I will attempt this independently on an ign video game review dataset.  \n",
    "\"\"\"\n"
   ]
  },
  {
   "cell_type": "markdown",
   "metadata": {},
   "source": [
    " Using the existing labels is extra credit. The baseline is that you can just convert the labels so that there are only 2 emotions (positive or negative). Ideally you can use an RNN via TFLearn like the one in this example, but I'll accept other types of ML models as well."
   ]
  },
  {
   "cell_type": "code",
   "execution_count": 19,
   "metadata": {
    "collapsed": true
   },
   "outputs": [],
   "source": [
    "import pandas as pd\n",
    "import numpy as np"
   ]
  },
  {
   "cell_type": "code",
   "execution_count": 20,
   "metadata": {},
   "outputs": [],
   "source": [
    "data = pd.read_csv('ign.csv')\n",
    "\n",
    "data = data[['title','score_phrase','score']]"
   ]
  },
  {
   "cell_type": "code",
   "execution_count": 21,
   "metadata": {},
   "outputs": [],
   "source": [
    "\n",
    "#Start with binary classification. \n",
    "good_games = data.loc[data['score'] > 6.0]\n",
    "bad_games = data.loc[data['score'] < 4.0]"
   ]
  },
  {
   "cell_type": "code",
   "execution_count": 22,
   "metadata": {
    "scrolled": true
   },
   "outputs": [
    {
     "name": "stdout",
     "output_type": "stream",
     "text": [
      "There are  1079  negatively reviewed games vs.  13324  positive.\n"
     ]
    }
   ],
   "source": [
    "print(\"There are \",len(bad_games),\" negatively reviewed games vs. \",\n",
    "      len(good_games),\" positive.\")"
   ]
  },
  {
   "cell_type": "code",
   "execution_count": 72,
   "metadata": {
    "scrolled": true
   },
   "outputs": [
    {
     "data": {
      "text/html": [
       "<div>\n",
       "<style scoped>\n",
       "    .dataframe tbody tr th:only-of-type {\n",
       "        vertical-align: middle;\n",
       "    }\n",
       "\n",
       "    .dataframe tbody tr th {\n",
       "        vertical-align: top;\n",
       "    }\n",
       "\n",
       "    .dataframe thead th {\n",
       "        text-align: right;\n",
       "    }\n",
       "</style>\n",
       "<table border=\"1\" class=\"dataframe\">\n",
       "  <thead>\n",
       "    <tr style=\"text-align: right;\">\n",
       "      <th></th>\n",
       "      <th>title</th>\n",
       "      <th>score_phrase</th>\n",
       "      <th>score</th>\n",
       "    </tr>\n",
       "  </thead>\n",
       "  <tbody>\n",
       "    <tr>\n",
       "      <th>0</th>\n",
       "      <td>LittleBigPlanet PS Vita</td>\n",
       "      <td>Amazing</td>\n",
       "      <td>9.0</td>\n",
       "    </tr>\n",
       "    <tr>\n",
       "      <th>1</th>\n",
       "      <td>LittleBigPlanet PS Vita -- Marvel Super Hero E...</td>\n",
       "      <td>Amazing</td>\n",
       "      <td>9.0</td>\n",
       "    </tr>\n",
       "    <tr>\n",
       "      <th>2</th>\n",
       "      <td>Splice: Tree of Life</td>\n",
       "      <td>Great</td>\n",
       "      <td>8.5</td>\n",
       "    </tr>\n",
       "    <tr>\n",
       "      <th>3</th>\n",
       "      <td>NHL 13</td>\n",
       "      <td>Great</td>\n",
       "      <td>8.5</td>\n",
       "    </tr>\n",
       "    <tr>\n",
       "      <th>4</th>\n",
       "      <td>NHL 13</td>\n",
       "      <td>Great</td>\n",
       "      <td>8.5</td>\n",
       "    </tr>\n",
       "    <tr>\n",
       "      <th>5</th>\n",
       "      <td>Total War Battles: Shogun</td>\n",
       "      <td>Good</td>\n",
       "      <td>7.0</td>\n",
       "    </tr>\n",
       "    <tr>\n",
       "      <th>6</th>\n",
       "      <td>Double Dragon: Neon</td>\n",
       "      <td>Awful</td>\n",
       "      <td>3.0</td>\n",
       "    </tr>\n",
       "    <tr>\n",
       "      <th>7</th>\n",
       "      <td>Guild Wars 2</td>\n",
       "      <td>Amazing</td>\n",
       "      <td>9.0</td>\n",
       "    </tr>\n",
       "    <tr>\n",
       "      <th>8</th>\n",
       "      <td>Double Dragon: Neon</td>\n",
       "      <td>Awful</td>\n",
       "      <td>3.0</td>\n",
       "    </tr>\n",
       "    <tr>\n",
       "      <th>9</th>\n",
       "      <td>Total War Battles: Shogun</td>\n",
       "      <td>Good</td>\n",
       "      <td>7.0</td>\n",
       "    </tr>\n",
       "    <tr>\n",
       "      <th>10</th>\n",
       "      <td>Tekken Tag Tournament 2</td>\n",
       "      <td>Good</td>\n",
       "      <td>7.5</td>\n",
       "    </tr>\n",
       "    <tr>\n",
       "      <th>11</th>\n",
       "      <td>Tekken Tag Tournament 2</td>\n",
       "      <td>Good</td>\n",
       "      <td>7.5</td>\n",
       "    </tr>\n",
       "    <tr>\n",
       "      <th>12</th>\n",
       "      <td>Wild Blood</td>\n",
       "      <td>Good</td>\n",
       "      <td>7.0</td>\n",
       "    </tr>\n",
       "    <tr>\n",
       "      <th>13</th>\n",
       "      <td>Mark of the Ninja</td>\n",
       "      <td>Amazing</td>\n",
       "      <td>9.0</td>\n",
       "    </tr>\n",
       "    <tr>\n",
       "      <th>14</th>\n",
       "      <td>Mark of the Ninja</td>\n",
       "      <td>Amazing</td>\n",
       "      <td>9.0</td>\n",
       "    </tr>\n",
       "    <tr>\n",
       "      <th>15</th>\n",
       "      <td>Home: A Unique Horror Adventure</td>\n",
       "      <td>Okay</td>\n",
       "      <td>6.5</td>\n",
       "    </tr>\n",
       "    <tr>\n",
       "      <th>16</th>\n",
       "      <td>Home: A Unique Horror Adventure</td>\n",
       "      <td>Okay</td>\n",
       "      <td>6.5</td>\n",
       "    </tr>\n",
       "    <tr>\n",
       "      <th>17</th>\n",
       "      <td>Avengers Initiative</td>\n",
       "      <td>Great</td>\n",
       "      <td>8.0</td>\n",
       "    </tr>\n",
       "    <tr>\n",
       "      <th>18</th>\n",
       "      <td>Way of the Samurai 4</td>\n",
       "      <td>Mediocre</td>\n",
       "      <td>5.5</td>\n",
       "    </tr>\n",
       "    <tr>\n",
       "      <th>19</th>\n",
       "      <td>JoJo's Bizarre Adventure HD</td>\n",
       "      <td>Good</td>\n",
       "      <td>7.0</td>\n",
       "    </tr>\n",
       "    <tr>\n",
       "      <th>20</th>\n",
       "      <td>JoJo's Bizarre Adventure HD</td>\n",
       "      <td>Good</td>\n",
       "      <td>7.0</td>\n",
       "    </tr>\n",
       "    <tr>\n",
       "      <th>21</th>\n",
       "      <td>Mass Effect 3: Leviathan</td>\n",
       "      <td>Good</td>\n",
       "      <td>7.5</td>\n",
       "    </tr>\n",
       "    <tr>\n",
       "      <th>22</th>\n",
       "      <td>Mass Effect 3: Leviathan</td>\n",
       "      <td>Good</td>\n",
       "      <td>7.5</td>\n",
       "    </tr>\n",
       "    <tr>\n",
       "      <th>23</th>\n",
       "      <td>Mass Effect 3: Leviathan</td>\n",
       "      <td>Good</td>\n",
       "      <td>7.5</td>\n",
       "    </tr>\n",
       "    <tr>\n",
       "      <th>24</th>\n",
       "      <td>Dark Souls (Prepare to Die Edition)</td>\n",
       "      <td>Amazing</td>\n",
       "      <td>9.0</td>\n",
       "    </tr>\n",
       "    <tr>\n",
       "      <th>25</th>\n",
       "      <td>Symphony</td>\n",
       "      <td>Good</td>\n",
       "      <td>7.0</td>\n",
       "    </tr>\n",
       "    <tr>\n",
       "      <th>26</th>\n",
       "      <td>Bastion</td>\n",
       "      <td>Amazing</td>\n",
       "      <td>9.0</td>\n",
       "    </tr>\n",
       "    <tr>\n",
       "      <th>27</th>\n",
       "      <td>Tom Clancy's Ghost Recon Phantoms</td>\n",
       "      <td>Good</td>\n",
       "      <td>7.5</td>\n",
       "    </tr>\n",
       "    <tr>\n",
       "      <th>28</th>\n",
       "      <td>Thirty Flights of Loving</td>\n",
       "      <td>Great</td>\n",
       "      <td>8.0</td>\n",
       "    </tr>\n",
       "    <tr>\n",
       "      <th>29</th>\n",
       "      <td>Legasista</td>\n",
       "      <td>Okay</td>\n",
       "      <td>6.5</td>\n",
       "    </tr>\n",
       "    <tr>\n",
       "      <th>...</th>\n",
       "      <td>...</td>\n",
       "      <td>...</td>\n",
       "      <td>...</td>\n",
       "    </tr>\n",
       "    <tr>\n",
       "      <th>18595</th>\n",
       "      <td>Ghostbusters</td>\n",
       "      <td>Bad</td>\n",
       "      <td>4.4</td>\n",
       "    </tr>\n",
       "    <tr>\n",
       "      <th>18596</th>\n",
       "      <td>Necropolis</td>\n",
       "      <td>Okay</td>\n",
       "      <td>6.5</td>\n",
       "    </tr>\n",
       "    <tr>\n",
       "      <th>18597</th>\n",
       "      <td>7 Days to Die</td>\n",
       "      <td>Bad</td>\n",
       "      <td>4.9</td>\n",
       "    </tr>\n",
       "    <tr>\n",
       "      <th>18598</th>\n",
       "      <td>Furi</td>\n",
       "      <td>Okay</td>\n",
       "      <td>6.8</td>\n",
       "    </tr>\n",
       "    <tr>\n",
       "      <th>18599</th>\n",
       "      <td>Pokemon Go</td>\n",
       "      <td>Good</td>\n",
       "      <td>7.0</td>\n",
       "    </tr>\n",
       "    <tr>\n",
       "      <th>18600</th>\n",
       "      <td>Hitman: Episode 4</td>\n",
       "      <td>Good</td>\n",
       "      <td>7.4</td>\n",
       "    </tr>\n",
       "    <tr>\n",
       "      <th>18601</th>\n",
       "      <td>Hitman: Episode 4</td>\n",
       "      <td>Good</td>\n",
       "      <td>7.4</td>\n",
       "    </tr>\n",
       "    <tr>\n",
       "      <th>18602</th>\n",
       "      <td>Hitman: Episode 4</td>\n",
       "      <td>Good</td>\n",
       "      <td>7.4</td>\n",
       "    </tr>\n",
       "    <tr>\n",
       "      <th>18603</th>\n",
       "      <td>Grow Up</td>\n",
       "      <td>Good</td>\n",
       "      <td>7.8</td>\n",
       "    </tr>\n",
       "    <tr>\n",
       "      <th>18604</th>\n",
       "      <td>Madden NFL 17</td>\n",
       "      <td>Great</td>\n",
       "      <td>8.6</td>\n",
       "    </tr>\n",
       "    <tr>\n",
       "      <th>18605</th>\n",
       "      <td>No Man's Sky</td>\n",
       "      <td>Okay</td>\n",
       "      <td>6.0</td>\n",
       "    </tr>\n",
       "    <tr>\n",
       "      <th>18606</th>\n",
       "      <td>Starcraft II: Nova Covert Ops -- Mission Pack 2</td>\n",
       "      <td>Okay</td>\n",
       "      <td>6.4</td>\n",
       "    </tr>\n",
       "    <tr>\n",
       "      <th>18607</th>\n",
       "      <td>Pokemon Go</td>\n",
       "      <td>Good</td>\n",
       "      <td>7.0</td>\n",
       "    </tr>\n",
       "    <tr>\n",
       "      <th>18608</th>\n",
       "      <td>Carmageddon: Max Damage</td>\n",
       "      <td>Mediocre</td>\n",
       "      <td>5.4</td>\n",
       "    </tr>\n",
       "    <tr>\n",
       "      <th>18609</th>\n",
       "      <td>Monster Hunter Generations</td>\n",
       "      <td>Great</td>\n",
       "      <td>8.0</td>\n",
       "    </tr>\n",
       "    <tr>\n",
       "      <th>18610</th>\n",
       "      <td>Song of the Deep</td>\n",
       "      <td>Okay</td>\n",
       "      <td>6.0</td>\n",
       "    </tr>\n",
       "    <tr>\n",
       "      <th>18611</th>\n",
       "      <td>Tom Clancy's The Division -- Underground</td>\n",
       "      <td>Mediocre</td>\n",
       "      <td>5.8</td>\n",
       "    </tr>\n",
       "    <tr>\n",
       "      <th>18612</th>\n",
       "      <td>BoxBoxBoy!</td>\n",
       "      <td>Good</td>\n",
       "      <td>7.8</td>\n",
       "    </tr>\n",
       "    <tr>\n",
       "      <th>18613</th>\n",
       "      <td>XCOM 2: Shen's Last Gift</td>\n",
       "      <td>Great</td>\n",
       "      <td>8.0</td>\n",
       "    </tr>\n",
       "    <tr>\n",
       "      <th>18614</th>\n",
       "      <td>Zero Time Dilemma</td>\n",
       "      <td>Amazing</td>\n",
       "      <td>9.2</td>\n",
       "    </tr>\n",
       "    <tr>\n",
       "      <th>18615</th>\n",
       "      <td>Zero Time Dilemma</td>\n",
       "      <td>Amazing</td>\n",
       "      <td>9.2</td>\n",
       "    </tr>\n",
       "    <tr>\n",
       "      <th>18616</th>\n",
       "      <td>Batman: The Telltale Series -- Episode 1: Real...</td>\n",
       "      <td>Good</td>\n",
       "      <td>7.5</td>\n",
       "    </tr>\n",
       "    <tr>\n",
       "      <th>18617</th>\n",
       "      <td>Abzu</td>\n",
       "      <td>Great</td>\n",
       "      <td>8.4</td>\n",
       "    </tr>\n",
       "    <tr>\n",
       "      <th>18618</th>\n",
       "      <td>Starbound</td>\n",
       "      <td>Amazing</td>\n",
       "      <td>9.1</td>\n",
       "    </tr>\n",
       "    <tr>\n",
       "      <th>18619</th>\n",
       "      <td>Human Fall Flat</td>\n",
       "      <td>Good</td>\n",
       "      <td>7.9</td>\n",
       "    </tr>\n",
       "    <tr>\n",
       "      <th>18620</th>\n",
       "      <td>Tokyo Mirage Sessions #FE</td>\n",
       "      <td>Good</td>\n",
       "      <td>7.6</td>\n",
       "    </tr>\n",
       "    <tr>\n",
       "      <th>18621</th>\n",
       "      <td>LEGO Star Wars: The Force Awakens</td>\n",
       "      <td>Amazing</td>\n",
       "      <td>9.0</td>\n",
       "    </tr>\n",
       "    <tr>\n",
       "      <th>18622</th>\n",
       "      <td>Star Ocean: Integrity and Faithlessness</td>\n",
       "      <td>Mediocre</td>\n",
       "      <td>5.8</td>\n",
       "    </tr>\n",
       "    <tr>\n",
       "      <th>18623</th>\n",
       "      <td>Inside</td>\n",
       "      <td>Masterpiece</td>\n",
       "      <td>10.0</td>\n",
       "    </tr>\n",
       "    <tr>\n",
       "      <th>18624</th>\n",
       "      <td>Inside</td>\n",
       "      <td>Masterpiece</td>\n",
       "      <td>10.0</td>\n",
       "    </tr>\n",
       "  </tbody>\n",
       "</table>\n",
       "<p>18625 rows × 3 columns</p>\n",
       "</div>"
      ],
      "text/plain": [
       "                                                   title score_phrase  score\n",
       "0                                LittleBigPlanet PS Vita      Amazing    9.0\n",
       "1      LittleBigPlanet PS Vita -- Marvel Super Hero E...      Amazing    9.0\n",
       "2                                   Splice: Tree of Life        Great    8.5\n",
       "3                                                 NHL 13        Great    8.5\n",
       "4                                                 NHL 13        Great    8.5\n",
       "5                              Total War Battles: Shogun         Good    7.0\n",
       "6                                    Double Dragon: Neon        Awful    3.0\n",
       "7                                           Guild Wars 2      Amazing    9.0\n",
       "8                                    Double Dragon: Neon        Awful    3.0\n",
       "9                              Total War Battles: Shogun         Good    7.0\n",
       "10                               Tekken Tag Tournament 2         Good    7.5\n",
       "11                               Tekken Tag Tournament 2         Good    7.5\n",
       "12                                            Wild Blood         Good    7.0\n",
       "13                                     Mark of the Ninja      Amazing    9.0\n",
       "14                                     Mark of the Ninja      Amazing    9.0\n",
       "15                       Home: A Unique Horror Adventure         Okay    6.5\n",
       "16                       Home: A Unique Horror Adventure         Okay    6.5\n",
       "17                                   Avengers Initiative        Great    8.0\n",
       "18                                  Way of the Samurai 4     Mediocre    5.5\n",
       "19                           JoJo's Bizarre Adventure HD         Good    7.0\n",
       "20                           JoJo's Bizarre Adventure HD         Good    7.0\n",
       "21                              Mass Effect 3: Leviathan         Good    7.5\n",
       "22                              Mass Effect 3: Leviathan         Good    7.5\n",
       "23                              Mass Effect 3: Leviathan         Good    7.5\n",
       "24                   Dark Souls (Prepare to Die Edition)      Amazing    9.0\n",
       "25                                              Symphony         Good    7.0\n",
       "26                                               Bastion      Amazing    9.0\n",
       "27                     Tom Clancy's Ghost Recon Phantoms         Good    7.5\n",
       "28                              Thirty Flights of Loving        Great    8.0\n",
       "29                                             Legasista         Okay    6.5\n",
       "...                                                  ...          ...    ...\n",
       "18595                                       Ghostbusters          Bad    4.4\n",
       "18596                                         Necropolis         Okay    6.5\n",
       "18597                                      7 Days to Die          Bad    4.9\n",
       "18598                                               Furi         Okay    6.8\n",
       "18599                                         Pokemon Go         Good    7.0\n",
       "18600                                  Hitman: Episode 4         Good    7.4\n",
       "18601                                  Hitman: Episode 4         Good    7.4\n",
       "18602                                  Hitman: Episode 4         Good    7.4\n",
       "18603                                            Grow Up         Good    7.8\n",
       "18604                                      Madden NFL 17        Great    8.6\n",
       "18605                                       No Man's Sky         Okay    6.0\n",
       "18606    Starcraft II: Nova Covert Ops -- Mission Pack 2         Okay    6.4\n",
       "18607                                         Pokemon Go         Good    7.0\n",
       "18608                            Carmageddon: Max Damage     Mediocre    5.4\n",
       "18609                         Monster Hunter Generations        Great    8.0\n",
       "18610                                   Song of the Deep         Okay    6.0\n",
       "18611           Tom Clancy's The Division -- Underground     Mediocre    5.8\n",
       "18612                                         BoxBoxBoy!         Good    7.8\n",
       "18613                           XCOM 2: Shen's Last Gift        Great    8.0\n",
       "18614                                  Zero Time Dilemma      Amazing    9.2\n",
       "18615                                  Zero Time Dilemma      Amazing    9.2\n",
       "18616  Batman: The Telltale Series -- Episode 1: Real...         Good    7.5\n",
       "18617                                               Abzu        Great    8.4\n",
       "18618                                          Starbound      Amazing    9.1\n",
       "18619                                    Human Fall Flat         Good    7.9\n",
       "18620                          Tokyo Mirage Sessions #FE         Good    7.6\n",
       "18621                  LEGO Star Wars: The Force Awakens      Amazing    9.0\n",
       "18622            Star Ocean: Integrity and Faithlessness     Mediocre    5.8\n",
       "18623                                             Inside  Masterpiece   10.0\n",
       "18624                                             Inside  Masterpiece   10.0\n",
       "\n",
       "[18625 rows x 3 columns]"
      ]
     },
     "execution_count": 72,
     "metadata": {},
     "output_type": "execute_result"
    }
   ],
   "source": [
    "data"
   ]
  },
  {
   "cell_type": "code",
   "execution_count": 23,
   "metadata": {},
   "outputs": [
    {
     "data": {
      "text/plain": [
       "Great          4773\n",
       "Good           4741\n",
       "Okay           2945\n",
       "Mediocre       1959\n",
       "Amazing        1804\n",
       "Bad            1269\n",
       "Awful           664\n",
       "Painful         340\n",
       "Unbearable       72\n",
       "Masterpiece      55\n",
       "Disaster          3\n",
       "Name: score_phrase, dtype: int64"
      ]
     },
     "execution_count": 23,
     "metadata": {},
     "output_type": "execute_result"
    }
   ],
   "source": [
    "data.score_phrase.value_counts()"
   ]
  },
  {
   "cell_type": "markdown",
   "metadata": {},
   "source": [
    "A comment. There are far more good games than bad games, so at worse picking every game as positive vs. negative would lead to 13/16 results, so some further process should be done, but for now just working with binary for a proof of concept. "
   ]
  },
  {
   "cell_type": "code",
   "execution_count": 68,
   "metadata": {},
   "outputs": [],
   "source": [
    "titles_good = good_games['title'].values\n",
    "y_good = np.ones(len(titles_good))\n",
    "\n",
    "titles_bad =bad_games['title'].values\n",
    "y_bad = 0*np.ones(len(titles_bad))\n",
    "\n",
    "\n",
    "X = np.concatenate((titles_good,titles_bad))\n",
    "y = np.concatenate((y_good,y_bad))\n",
    "\n",
    "\n"
   ]
  },
  {
   "cell_type": "code",
   "execution_count": 69,
   "metadata": {
    "collapsed": true
   },
   "outputs": [],
   "source": [
    "from sklearn.model_selection import train_test_split\n",
    "\n",
    "\n",
    "\n",
    "X_train, X_test, y_train, y_test = train_test_split(X,y)"
   ]
  },
  {
   "cell_type": "code",
   "execution_count": 70,
   "metadata": {},
   "outputs": [
    {
     "data": {
      "text/plain": [
       "(10802,)"
      ]
     },
     "execution_count": 70,
     "metadata": {},
     "output_type": "execute_result"
    }
   ],
   "source": [
    "np.shape(y_train)"
   ]
  },
  {
   "cell_type": "code",
   "execution_count": 71,
   "metadata": {},
   "outputs": [
    {
     "name": "stdout",
     "output_type": "stream",
     "text": [
      "lowest tfidf:  ['nicey' 'spicy' 'amiyumi' 'amp' 'genie' 'puffy' 'snow' 'edtion' 'sensen'\n",
      " 'chikko' 'kaihou' 'chibikko' 'daishuugou' 'garbage' 'hey' 'why' 'our'\n",
      " 'make' 'daffy' 'dodgers']\n",
      "highest tfidf:  ['attractive' 'strong' '1861' ..., 'drake' 'tmnt' 'futurama']\n"
     ]
    }
   ],
   "source": [
    "from sklearn.feature_extraction.text import TfidfVectorizer\n",
    "\n",
    "vect = TfidfVectorizer()\n",
    "vect.fit(X_train)\n",
    "X_train = vect.transform(X_train)\n",
    "\n",
    "max_value = X_train.max(axis=0).toarray().ravel()\n",
    "sorted_by_tfidf = max_value.argsort()\n",
    "feature_names = np.array(vect.get_feature_names())\n",
    "\n",
    "print(\"lowest tfidf: \" , feature_names[sorted_by_tfidf[:20]])\n",
    "print(\"highest tfidf: \" , feature_names[sorted_by_tfidf[20:]])\n",
    "\n"
   ]
  },
  {
   "cell_type": "code",
   "execution_count": null,
   "metadata": {},
   "outputs": [],
   "source": []
  },
  {
   "cell_type": "code",
   "execution_count": null,
   "metadata": {},
   "outputs": [],
   "source": []
  },
  {
   "cell_type": "code",
   "execution_count": null,
   "metadata": {
    "collapsed": true
   },
   "outputs": [],
   "source": []
  },
  {
   "cell_type": "markdown",
   "metadata": {},
   "source": [
    "Now for some good old fashioned word2vec for these titles."
   ]
  },
  {
   "cell_type": "code",
   "execution_count": 42,
   "metadata": {
    "collapsed": true
   },
   "outputs": [],
   "source": [
    "from gensim.models import Word2Vec"
   ]
  },
  {
   "cell_type": "code",
   "execution_count": 43,
   "metadata": {},
   "outputs": [
    {
     "name": "stdout",
     "output_type": "stream",
     "text": [
      "Word2Vec(vocab=93, size=100, alpha=0.025)\n",
      "['L', 'i', 't', 'l', 'e', 'B', 'g', 'P', 'a', 'n', ' ', 'S', 'V', '-', 'M', 'r', 'v', 'u', 'p', 'H', 'o', 'E', 'd', 'c', ':', 'T', 'f', 'N', '1', '3', 'W', 's', 'h', 'G', '2', 'k', 'm', 'j', 'A', 'U', 'q', 'I', 'J', \"'\", 'z', 'D', '(', ')', 'y', 'C', 'R', 'F', 'b', 'O', '6', 'K', 'w', 'Y', 'x', '.', '5', '4', 'Q', '/', 'X', 'Z', '0', '!', '&', '?', '7', '9', '[', ']', '+', '8', '°', '@', ',', '*', '$', '\\\\', '#', '\"', '~', '♥', 'Я', 'ñ', 'ü', 'ö', 'é', '’', ';']\n"
     ]
    }
   ],
   "source": [
    "# train model\n",
    "model = Word2Vec(X, min_count=1)\n",
    "# summarize the loaded model\n",
    "print(model)\n",
    "# summarize vocabulary\n",
    "words = list(model.wv.vocab)\n",
    "print(words)\n",
    "# access vector for one word\n",
    "#print(model['sentence'])"
   ]
  },
  {
   "cell_type": "code",
   "execution_count": null,
   "metadata": {
    "scrolled": true
   },
   "outputs": [],
   "source": []
  },
  {
   "cell_type": "code",
   "execution_count": null,
   "metadata": {
    "collapsed": true
   },
   "outputs": [],
   "source": []
  },
  {
   "cell_type": "code",
   "execution_count": null,
   "metadata": {
    "collapsed": true
   },
   "outputs": [],
   "source": []
  },
  {
   "cell_type": "code",
   "execution_count": 41,
   "metadata": {},
   "outputs": [
    {
     "data": {
      "text/plain": [
       "<1x6713 sparse matrix of type '<class 'numpy.float64'>'\n",
       "\twith 3 stored elements in Compressed Sparse Row format>"
      ]
     },
     "execution_count": 41,
     "metadata": {},
     "output_type": "execute_result"
    }
   ],
   "source": [
    "X_vect[0]"
   ]
  },
  {
   "cell_type": "code",
   "execution_count": 15,
   "metadata": {
    "scrolled": true
   },
   "outputs": [
    {
     "name": "stdout",
     "output_type": "stream",
     "text": [
      "# of words: 3\n",
      "# of words: 8\n",
      "# of words: 11\n",
      "# of words: 11\n",
      "# of words: 11\n",
      "# of words: 12\n",
      "# of words: 13\n",
      "# of words: 16\n",
      "# of words: 16\n"
     ]
    }
   ],
   "source": [
    "max_title = 0\n",
    "for game in titles:\n",
    "    title_len = len(game)\n",
    "    if title_len > max_title:\n",
    "        max_title = title_len\n",
    "        print(\"# of words:\", len(game.split()))"
   ]
  },
  {
   "cell_type": "markdown",
   "metadata": {},
   "source": [
    "Now using these titles, "
   ]
  },
  {
   "cell_type": "code",
   "execution_count": null,
   "metadata": {},
   "outputs": [],
   "source": [
    "from sklearn.feature_extraction.text import TfidfVectorizer\n"
   ]
  },
  {
   "cell_type": "code",
   "execution_count": null,
   "metadata": {},
   "outputs": [],
   "source": [
    "titles.values\n"
   ]
  },
  {
   "cell_type": "code",
   "execution_count": null,
   "metadata": {},
   "outputs": [],
   "source": [
    "from sklearn.feature_extraction.text import CountVectorizer\n",
    "vect = TfidfVectorizer()\n",
    "\n",
    "vect.fit(titles.values)\n",
    "\n",
    "\n",
    "eh = vect.transform(titles.values)"
   ]
  },
  {
   "cell_type": "code",
   "execution_count": null,
   "metadata": {},
   "outputs": [],
   "source": []
  },
  {
   "cell_type": "code",
   "execution_count": null,
   "metadata": {
    "collapsed": true
   },
   "outputs": [],
   "source": []
  },
  {
   "cell_type": "code",
   "execution_count": null,
   "metadata": {},
   "outputs": [],
   "source": [
    "vect.fit_transform(titles.values)"
   ]
  },
  {
   "cell_type": "code",
   "execution_count": null,
   "metadata": {
    "collapsed": true
   },
   "outputs": [],
   "source": [
    "tits  =vect.fit_transform(titles.values)"
   ]
  },
  {
   "cell_type": "code",
   "execution_count": null,
   "metadata": {},
   "outputs": [],
   "source": [
    "vect.get_feature_names()"
   ]
  },
  {
   "cell_type": "markdown",
   "metadata": {},
   "source": [
    "The longest one is 96 characters, and 16 words. "
   ]
  },
  {
   "cell_type": "code",
   "execution_count": null,
   "metadata": {},
   "outputs": [],
   "source": [
    "from tflearn.datasets import imdb #a preprocessed data set. Something you don't see in nature! \n",
    "\n",
    "# IMDB Dataset loading\n",
    "train, test, _ = imdb.load_data(path='imdb.pkl', n_words=10000,\n",
    "                                valid_portion=0.1)  #load as a pkl file, a byte oriented object that can easily be converted to lists and tuples later on, or in this code!\n",
    "\t\t\t\t#n words is how many total words we want to look at, and validation corresponds to the size of the validation data to be placed inside, or.1 (test = .1*train in this case.)\n",
    "\n",
    "\n",
    "#split features and labels. \n",
    "trainX, trainY = train\n",
    "testX, testY = test \n"
   ]
  },
  {
   "cell_type": "code",
   "execution_count": null,
   "metadata": {},
   "outputs": [],
   "source": [
    "trainX[0]"
   ]
  },
  {
   "cell_type": "code",
   "execution_count": null,
   "metadata": {},
   "outputs": [],
   "source": [
    "trainX = pad_sequences(trainX, maxlen=100, value=0.)\n",
    "testX = pad_sequences(testX, maxlen=100, value=0.)\n"
   ]
  },
  {
   "cell_type": "code",
   "execution_count": null,
   "metadata": {
    "collapsed": true
   },
   "outputs": [],
   "source": [
    "from tflearn.data_utils import to_categorical, pad_sequences #helper functions\n"
   ]
  },
  {
   "cell_type": "code",
   "execution_count": null,
   "metadata": {},
   "outputs": [],
   "source": [
    "trainX[0]"
   ]
  },
  {
   "cell_type": "code",
   "execution_count": null,
   "metadata": {},
   "outputs": [],
   "source": [
    "trainX[1]"
   ]
  },
  {
   "cell_type": "code",
   "execution_count": null,
   "metadata": {
    "collapsed": true
   },
   "outputs": [],
   "source": []
  }
 ],
 "metadata": {
  "kernelspec": {
   "display_name": "Python 3",
   "language": "python",
   "name": "python3"
  },
  "language_info": {
   "codemirror_mode": {
    "name": "ipython",
    "version": 3
   },
   "file_extension": ".py",
   "mimetype": "text/x-python",
   "name": "python",
   "nbconvert_exporter": "python",
   "pygments_lexer": "ipython3",
   "version": "3.6.1"
  }
 },
 "nbformat": 4,
 "nbformat_minor": 2
}
